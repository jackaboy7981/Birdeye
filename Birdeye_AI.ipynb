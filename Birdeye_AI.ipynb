{
  "nbformat": 4,
  "nbformat_minor": 0,
  "metadata": {
    "colab": {
      "name": "Birdeye-AI.ipynb",
      "provenance": []
    },
    "kernelspec": {
      "name": "python3",
      "display_name": "Python 3"
    },
    "language_info": {
      "name": "python"
    }
  },
  "cells": [
    {
      "cell_type": "markdown",
      "source": [
        "#Loading Data"
      ],
      "metadata": {
        "id": "UNdk0bYvj8mg"
      }
    },
    {
      "cell_type": "code",
      "metadata": {
        "id": "3d2_w9KEhC8d",
        "outputId": "388a6bd4-1a77-40bf-c167-4b4e2ea672fd",
        "colab": {
          "base_uri": "https://localhost:8080/"
        }
      },
      "source": [
        "#Path to zipped data\n",
        "path = \"/content/drive/MyDrive/data/\"\n",
        "\n",
        "from google.colab import drive\n",
        "drive._mount('/content/drive')"
      ],
      "execution_count": 1,
      "outputs": [
        {
          "output_type": "stream",
          "name": "stdout",
          "text": [
            "Mounted at /content/drive\n"
          ]
        }
      ]
    },
    {
      "cell_type": "code",
      "source": [
        "!mkdir /content/data\n",
        "!mkdir /content/data/samples\n",
        "!mkdir /content/data/samples/CAM_FRONT\n",
        "!mkdir /content/data/samples/CAM_FRONT_RIGHT\n",
        "!mkdir /content/data/samples/CAM_FRONT_LEFT\n",
        "!mkdir /content/data/samples/CAM_BACK\n",
        "!mkdir /content/data/samples/CAM_BACK_RIGHT\n",
        "!mkdir /content/data/samples/CAM_BACK_LEFT\n",
        "print(\"Folders Made !!\")"
      ],
      "metadata": {
        "id": "9_4EUo4pkMeK",
        "outputId": "773c0c0f-8912-4ff4-9c8c-7ad216ed980b",
        "colab": {
          "base_uri": "https://localhost:8080/"
        }
      },
      "execution_count": 2,
      "outputs": [
        {
          "output_type": "stream",
          "name": "stdout",
          "text": [
            "Folders Made !!\n"
          ]
        }
      ]
    },
    {
      "cell_type": "code",
      "source": [
        "!unzip $path\"CAM_FRONT.zip\" -d /content/data/samples/CAM_FRONT/\n",
        "print(\"Cam front copied !!\")\n",
        "\n",
        "!unzip $path\"CAM_FRONT_LEFT.zip\" -d /content/data/samples/CAM_FRONT_LEFT/\n",
        "print(\"Cam front left copied !!\")\n",
        "\n",
        "!unzip $path\"CAM_FRONT_RIGHT.zip\" -d /content/data/samples/CAM_FRONT_RIGHT/\n",
        "print(\"Cam front right copied !!\")\n",
        "\n",
        "!unzip $path\"CAM_BACK.zip\" -d /content/data/samples/CAM_BACK/\n",
        "print(\"Cam back copied !!\")\n",
        "\n",
        "!unzip $path\"CAM_BACK_LEFT.zip\" -d /content/data/samples/CAM_BACK_LEFT/\n",
        "print(\"Cam back left copied !!\")\n",
        "\n",
        "!unzip $path\"CAM_BACK_RIGHT.zip\" -d /content/data/samples/CAM_BACK_RIGHT/\n",
        "print(\"Cam back right copied !!\")"
      ],
      "metadata": {
        "id": "AzwuIiNqkzsh"
      },
      "execution_count": null,
      "outputs": []
    }
  ]
}